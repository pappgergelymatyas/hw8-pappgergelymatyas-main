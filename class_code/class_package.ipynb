{
 "cells": [
  {
   "cell_type": "markdown",
   "metadata": {},
   "source": [
    "# Osztályok és Objektumok\n",
    "\n",
    "Az osztályok az objektumok tervrajzai, az objektumok pedig ezekből az osztályokból készült példányok.\n",
    "\n",
    "## Példa: Kutya osztály"
   ]
  },
  {
   "cell_type": "code",
   "execution_count": null,
   "metadata": {},
   "outputs": [],
   "source": [
    "class Kutya:\n",
    "    def __init__(self, nev, szin, eletkor, el_e):\n",
    "        self.nev = nev\n",
    "        self.szin = szin\n",
    "        self.eletkor = eletkor\n",
    "        self.el_e = el_e\n",
    "\n",
    "    def jo_kutya(self):\n",
    "        if self.szin == \"black\" and self.nev == \"Dogy McDoogle\":\n",
    "            print(self.nev + \" egy jó kutya!\")\n",
    "        else:\n",
    "            print(\"Oké minden kutya jó kutya\")\n",
    "\n",
    "# Példányosítás és használat\n",
    "kutya1 = Kutya(\"Dogy McDoogle\", \"black\", 4, True)\n",
    "kutya1.jo_kutya()"
   ]
  }
 ],
 "metadata": {
  "kernelspec": {
   "display_name": "Python 3",
   "language": "python",
   "name": "python3"
  },
  "language_info": {
   "codemirror_mode": {
    "name": "ipython",
    "version": 3
   },
   "file_extension": ".py",
   "mimetype": "text/x-python",
   "name": "python",
   "nbconvert_exporter": "python",
   "pygments_lexer": "ipython3",
   "version": "3.12.6"
  }
 },
 "nbformat": 4,
 "nbformat_minor": 2
}
